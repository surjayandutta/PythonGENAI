{
 "cells": [
  {
   "cell_type": "markdown",
   "id": "7d643270-d4d6-4252-9105-5c6d7f7edd36",
   "metadata": {},
   "source": [
    "# Linked List:\n",
    "\n",
    "Linked lists are an ordered collection of objects. So what makes them different from normal lists? Linked lists differ from lists in the way that they store elements in memory. While lists use a contiguous memory block to store references to their data, linked lists store references as part of their own elements."
   ]
  },
  {
   "cell_type": "markdown",
   "id": "490b9e5f-d650-4cca-b735-71782d5eafc5",
   "metadata": {},
   "source": [
    "Each element of a linked list is called a node, and every node has two different fields:\n",
    "\n",
    "1. Data contains the value to be stored in the node.\n",
    "2. Next contains a reference to the next node on the list.\n",
    "\n",
    "\n",
    "A linked list is a collection of nodes. The first node is called the head, and it’s used as the starting point for any iteration through the list. The last node must have its next reference pointing to None to determine the end of the list."
   ]
  },
  {
   "cell_type": "markdown",
   "id": "c39f4fcf-be0b-493c-b1e1-7aa20aaa6590",
   "metadata": {},
   "source": [
    "Linked lists serve a variety of purposes in the real world. They can be used to implement queues or stacks as well as graphs. They’re also useful for much more complex tasks, such as lifecycle management for an operating system application\n",
    "\n",
    "Queues and stacks differ only in the way elements are retrieved. For a queue, you use a First-In/First-Out (FIFO) approach. That means that the first element inserted in the list is the first one to be retrieved.\n",
    "\n",
    "You use the front and rear elements of the queue. When you append new elements to the queue, they’ll go to the rear end. When you retrieve elements, they’ll be taken from the front of the queue.\n",
    "\n",
    "For a stack, you use a Last-In/First-Out (LIFO) approach, meaning that the last element inserted in the list is the first to be retrieved. Because of the way you insert and retrieve elements from the edges of queues and stacks, linked lists are one of the most convenient ways to implement these data structures."
   ]
  },
  {
   "cell_type": "code",
   "execution_count": 1,
   "id": "85ee4dba-3f00-4352-974f-e08ddf177ec4",
   "metadata": {},
   "outputs": [],
   "source": [
    ">>> graph = {\n",
    "    1: [2, 3, None],\n",
    "    2: [4, None],\n",
    "    3: [None],\n",
    "    4: [5, 6, None],\n",
    "    5: [6, None],\n",
    "    6: [None]\n",
    "}"
   ]
  },
  {
   "cell_type": "markdown",
   "id": "a9f6e3d2-4b80-42c3-ae80-68f91af7a377",
   "metadata": {},
   "source": [
    "### Performance Comparison:\n",
    "\n",
    "Lists vs Linked Lists:\n",
    "\n",
    "\n",
    "In most programming languages, there are clear differences in the way linked lists and arrays are stored in memory. In Python, however, lists are dynamic arrays. That means that the memory usage of both lists and linked lists is very similar. Since the difference in memory usage between lists and linked lists is so insignificant, it’s better if you focus on their performance differences when it comes to time complexity."
   ]
  },
  {
   "cell_type": "markdown",
   "id": "e0bdf550-f0d3-4a39-9cbf-3b470d450b67",
   "metadata": {},
   "source": [
    "### Insertion and Deletion of Elements:\n",
    "\n",
    "In Python, you can insert elements into a list using .insert() or .append(). For removing elements from a list, you can use their counterparts: .remove() and .pop().\n",
    "The main difference between these methods is that you use .insert() and .remove() to insert or remove elements at a specific position in a list, but you use .append() and .pop() only to insert or remove elements at the end of a list.\n",
    "\n",
    "With all this in mind, even though inserting elements at the end of a list using .append() or .insert() will have constant time, O(1), when you try inserting an element closer to or at the beginning of the list, the average time complexity will grow along with the size of the list: O(n).\n",
    "\n",
    "Linked lists, on the other hand, are much more straightforward when it comes to insertion and deletion of elements at the beginning or end of a list, where their time complexity is always constant: O(1).\n",
    "For this reason, linked lists have a performance advantage over normal lists when implementing a queue (FIFO), in which elements are continuously inserted and removed at the beginning of the list. But they perform similarly to a list when implementing a stack (LIFO), in which elements are inserted and removed at the end of the list."
   ]
  },
  {
   "cell_type": "raw",
   "id": "8eb67c2b-d1e1-47ad-9808-a5faa6a571a8",
   "metadata": {},
   "source": [
    "Retrieval of Elements:\n",
    "\n",
    "When it comes to element lookup, lists perform much better than linked lists. When you know which element you want to access, lists can perform this operation in O(1) time. Trying to do the same with a linked list would take O(n) because you need to traverse the whole list to find the element.\n",
    "When searching for a specific element, however, both lists and linked lists perform very similarly, with a time complexity of O(n). In both cases, you need to iterate through the entire list to find the element you’re looking for."
   ]
  },
  {
   "cell_type": "markdown",
   "id": "4634e05a-2677-493d-9f2b-dd48c101b6da",
   "metadata": {},
   "source": [
    "In Python, there’s a specific object in the collections module that you can use for linked lists called deque (pronounced “deck”), which stands for double-ended queue.\n",
    "\n",
    "collections.deque uses an implementation of a linked list in which you can access, insert, or remove elements from the beginning or end of a list with constant O(1) performance."
   ]
  },
  {
   "cell_type": "code",
   "execution_count": 2,
   "id": "7d03f259-a15a-404f-b25c-83998877274e",
   "metadata": {},
   "outputs": [],
   "source": [
    "from collections import deque"
   ]
  },
  {
   "cell_type": "code",
   "execution_count": 3,
   "id": "85b783e9-6d6c-4c4a-8835-82290145a70e",
   "metadata": {},
   "outputs": [
    {
     "data": {
      "text/plain": [
       "collections.deque"
      ]
     },
     "execution_count": 3,
     "metadata": {},
     "output_type": "execute_result"
    }
   ],
   "source": [
    "deque"
   ]
  },
  {
   "cell_type": "code",
   "execution_count": 5,
   "id": "bf3b26c6-c8eb-48af-997b-9a7127d7474f",
   "metadata": {},
   "outputs": [
    {
     "data": {
      "text/plain": [
       "deque([])"
      ]
     },
     "execution_count": 5,
     "metadata": {},
     "output_type": "execute_result"
    }
   ],
   "source": [
    "deque()\n",
    "\n",
    "#The code above will create an empty linked list."
   ]
  },
  {
   "cell_type": "code",
   "execution_count": 6,
   "id": "ef867aea-a53b-4acf-867a-a91bd76fe59a",
   "metadata": {},
   "outputs": [
    {
     "data": {
      "text/plain": [
       "deque(['a', 'b', 'c'])"
      ]
     },
     "execution_count": 6,
     "metadata": {},
     "output_type": "execute_result"
    }
   ],
   "source": [
    "deque(['a','b','c'])"
   ]
  },
  {
   "cell_type": "code",
   "execution_count": 7,
   "id": "7fae1b1e-61d8-4bfb-ab14-85c0b08bc4be",
   "metadata": {},
   "outputs": [
    {
     "data": {
      "text/plain": [
       "deque(['a', 'b', 'c'])"
      ]
     },
     "execution_count": 7,
     "metadata": {},
     "output_type": "execute_result"
    }
   ],
   "source": [
    "deque('abc')"
   ]
  },
  {
   "cell_type": "code",
   "execution_count": 8,
   "id": "eedbaee0-b13d-4575-a0dc-bddde6eeac26",
   "metadata": {},
   "outputs": [
    {
     "data": {
      "text/plain": [
       "deque([{'data': 'a'}, {'data': 'b'}])"
      ]
     },
     "execution_count": 8,
     "metadata": {},
     "output_type": "execute_result"
    }
   ],
   "source": [
    "deque([{'data': 'a'}, {'data': 'b'}])"
   ]
  },
  {
   "cell_type": "raw",
   "id": "72605c4f-7814-4790-b240-10b40c957d08",
   "metadata": {},
   "source": [
    "When initializing a deque object, you can pass any iterable as an input, such as a string (also an iterable) or a list of objects. Now that you know how to create a deque object, you can interact with it by adding or removing elements. "
   ]
  },
  {
   "cell_type": "code",
   "execution_count": 9,
   "id": "8c2efeb8-96bb-4b8e-a366-9829a4d47d35",
   "metadata": {},
   "outputs": [],
   "source": [
    "llist = deque(\"abcde\")"
   ]
  },
  {
   "cell_type": "code",
   "execution_count": 11,
   "id": "1ba8eeda-426f-4dde-a37e-80d5bbef576c",
   "metadata": {},
   "outputs": [
    {
     "data": {
      "text/plain": [
       "deque(['a', 'b', 'c', 'd', 'e'])"
      ]
     },
     "execution_count": 11,
     "metadata": {},
     "output_type": "execute_result"
    }
   ],
   "source": [
    "llist"
   ]
  },
  {
   "cell_type": "code",
   "execution_count": 12,
   "id": "bc8822a3-18a1-4d45-9679-9398db238334",
   "metadata": {},
   "outputs": [],
   "source": [
    "llist.append(\"f\")"
   ]
  },
  {
   "cell_type": "code",
   "execution_count": 13,
   "id": "4e20af59-ae3a-4def-a77f-65fbaf096678",
   "metadata": {},
   "outputs": [
    {
     "data": {
      "text/plain": [
       "deque(['a', 'b', 'c', 'd', 'e', 'f'])"
      ]
     },
     "execution_count": 13,
     "metadata": {},
     "output_type": "execute_result"
    }
   ],
   "source": [
    "llist"
   ]
  },
  {
   "cell_type": "code",
   "execution_count": 14,
   "id": "ed40ea5a-7fb1-4151-9341-5cec0d053a4d",
   "metadata": {},
   "outputs": [
    {
     "data": {
      "text/plain": [
       "'f'"
      ]
     },
     "execution_count": 14,
     "metadata": {},
     "output_type": "execute_result"
    }
   ],
   "source": [
    "llist.pop()"
   ]
  },
  {
   "cell_type": "code",
   "execution_count": 15,
   "id": "359050d0-b14d-4bd7-a1d6-44a8349a1b48",
   "metadata": {},
   "outputs": [
    {
     "data": {
      "text/plain": [
       "deque(['a', 'b', 'c', 'd', 'e'])"
      ]
     },
     "execution_count": 15,
     "metadata": {},
     "output_type": "execute_result"
    }
   ],
   "source": [
    "llist"
   ]
  },
  {
   "cell_type": "markdown",
   "id": "6c93e3af-a6a0-43c2-80c8-bef47c109fca",
   "metadata": {},
   "source": [
    "Both append() and pop() add or remove elements from the right side of the linked list. However, you can also use deque to quickly add or remove elements from the left side, or head, of the list."
   ]
  },
  {
   "cell_type": "code",
   "execution_count": 16,
   "id": "7d718b65-4233-4880-8798-35c373b77eeb",
   "metadata": {},
   "outputs": [],
   "source": [
    "llist.appendleft(\"z\")"
   ]
  },
  {
   "cell_type": "code",
   "execution_count": 17,
   "id": "0e29b98e-b102-490f-9d65-57e3dcdf771a",
   "metadata": {},
   "outputs": [
    {
     "data": {
      "text/plain": [
       "deque(['z', 'a', 'b', 'c', 'd', 'e'])"
      ]
     },
     "execution_count": 17,
     "metadata": {},
     "output_type": "execute_result"
    }
   ],
   "source": [
    "llist"
   ]
  },
  {
   "cell_type": "code",
   "execution_count": 18,
   "id": "0e334e53-9b80-49c0-9580-33d43e3c0968",
   "metadata": {},
   "outputs": [
    {
     "data": {
      "text/plain": [
       "'z'"
      ]
     },
     "execution_count": 18,
     "metadata": {},
     "output_type": "execute_result"
    }
   ],
   "source": [
    "llist.popleft()"
   ]
  },
  {
   "cell_type": "code",
   "execution_count": 19,
   "id": "92577a95-b7d2-4850-b51c-4d3845df807e",
   "metadata": {},
   "outputs": [
    {
     "data": {
      "text/plain": [
       "deque(['a', 'b', 'c', 'd', 'e'])"
      ]
     },
     "execution_count": 19,
     "metadata": {},
     "output_type": "execute_result"
    }
   ],
   "source": [
    "llist"
   ]
  },
  {
   "cell_type": "raw",
   "id": "a812a989-d426-4960-84c3-f859e431bc1a",
   "metadata": {},
   "source": [
    "As you learned above, the main difference between a queue and a stack is the way you retrieve elements from each. Next, you’ll find out how to use collections.deque to implement both data structures.\n",
    "\n",
    "With queues, you want to add values to a list (enqueue), and when the timing is right, you want to remove the element that has been on the list the longest (dequeue)."
   ]
  },
  {
   "cell_type": "code",
   "execution_count": 20,
   "id": "a5c51b92-b670-44e1-808f-ee8d3b405b1f",
   "metadata": {},
   "outputs": [],
   "source": [
    "from collections import deque"
   ]
  },
  {
   "cell_type": "code",
   "execution_count": 21,
   "id": "d3c7570e-eff9-41ca-8645-90d2c057148e",
   "metadata": {},
   "outputs": [],
   "source": [
    "queue = deque()"
   ]
  },
  {
   "cell_type": "code",
   "execution_count": 22,
   "id": "f78d1a2c-e466-4127-8e40-2ea75a9aa9c9",
   "metadata": {},
   "outputs": [
    {
     "data": {
      "text/plain": [
       "deque([])"
      ]
     },
     "execution_count": 22,
     "metadata": {},
     "output_type": "execute_result"
    }
   ],
   "source": [
    "queue"
   ]
  },
  {
   "cell_type": "code",
   "execution_count": 23,
   "id": "f3c6aa9b-fbb2-4b07-a29a-0d29dbb57d8c",
   "metadata": {},
   "outputs": [],
   "source": [
    "queue.append(\"Mary\")\n",
    "queue.append(\"John\")\n",
    "queue.append(\"Susan\")"
   ]
  },
  {
   "cell_type": "code",
   "execution_count": 24,
   "id": "8cae52be-e7b5-495d-9a27-b5a1e3428ace",
   "metadata": {},
   "outputs": [
    {
     "data": {
      "text/plain": [
       "deque(['Mary', 'John', 'Susan'])"
      ]
     },
     "execution_count": 24,
     "metadata": {},
     "output_type": "execute_result"
    }
   ],
   "source": [
    "queue"
   ]
  },
  {
   "cell_type": "code",
   "execution_count": 26,
   "id": "dfd46946-9ed7-4e39-a5bf-2b6a49991b16",
   "metadata": {},
   "outputs": [
    {
     "data": {
      "text/plain": [
       "'John'"
      ]
     },
     "execution_count": 26,
     "metadata": {},
     "output_type": "execute_result"
    }
   ],
   "source": [
    "queue.popleft()\n",
    "\n",
    "#Every time you call popleft(), you remove the head element from the linked list"
   ]
  },
  {
   "cell_type": "raw",
   "id": "1efaa9a7-6746-4098-be81-829e09c09238",
   "metadata": {},
   "source": [
    "The stack uses the LIFO approach, meaning that the last element to be inserted in the stack should be the first to be removed."
   ]
  },
  {
   "cell_type": "code",
   "execution_count": 27,
   "id": "cfc42551-42ea-4869-b28b-cb4b96979aef",
   "metadata": {},
   "outputs": [],
   "source": [
    "history = deque()"
   ]
  },
  {
   "cell_type": "code",
   "execution_count": 30,
   "id": "6456ce20-fbfe-4f10-9552-8c0a253f1719",
   "metadata": {},
   "outputs": [],
   "source": [
    "history.appendleft(\"https://realpython.com/\")\n",
    "history.appendleft(\"https://realpython.com/pandas-read-write-files/\")\n",
    "history.appendleft(\"https://realpython.com/python-csv/\")\n",
    "\n",
    "#using appendleft() to ensure that each new element was added to the head of the linked list."
   ]
  },
  {
   "cell_type": "code",
   "execution_count": 31,
   "id": "25da5cac-4283-4905-90f0-403707751fb1",
   "metadata": {},
   "outputs": [
    {
     "data": {
      "text/plain": [
       "deque(['https://realpython.com/python-csv/',\n",
       "       'https://realpython.com/pandas-read-write-files/',\n",
       "       'https://realpython.com/',\n",
       "       'https://realpython.com/python-csv/',\n",
       "       'https://realpython.com/pandas-read-write-files/',\n",
       "       'https://realpython.com/'])"
      ]
     },
     "execution_count": 31,
     "metadata": {},
     "output_type": "execute_result"
    }
   ],
   "source": [
    "history"
   ]
  },
  {
   "cell_type": "code",
   "execution_count": 35,
   "id": "992483c4-7a58-441e-b85b-72358cbfbc12",
   "metadata": {},
   "outputs": [
    {
     "data": {
      "text/plain": [
       "'https://realpython.com/python-csv/'"
      ]
     },
     "execution_count": 35,
     "metadata": {},
     "output_type": "execute_result"
    }
   ],
   "source": [
    "history.popleft()"
   ]
  },
  {
   "cell_type": "code",
   "execution_count": 36,
   "id": "faa2d240-be6d-423d-bdbe-89a6bea1af34",
   "metadata": {},
   "outputs": [
    {
     "data": {
      "text/plain": [
       "deque(['https://realpython.com/pandas-read-write-files/',\n",
       "       'https://realpython.com/'])"
      ]
     },
     "execution_count": 36,
     "metadata": {},
     "output_type": "execute_result"
    }
   ],
   "source": [
    "history"
   ]
  },
  {
   "cell_type": "markdown",
   "id": "7c5b96f9-f1f3-4de6-bac0-a41e17679204",
   "metadata": {},
   "source": [
    "## How to Create a Linked List"
   ]
  },
  {
   "cell_type": "code",
   "execution_count": 37,
   "id": "ed8685b2-867d-48d1-8af1-e2bac7950dd8",
   "metadata": {},
   "outputs": [],
   "source": [
    "# create a class to represent your linked list\n",
    "\n",
    "class LinkedList:\n",
    "    def __init__(self):\n",
    "        self.head = None"
   ]
  },
  {
   "cell_type": "markdown",
   "id": "3b0c920c-4e58-4e7a-af08-8b3f40dc3ad2",
   "metadata": {},
   "source": [
    "The only information you need to store for a linked list is where the list starts (the head of the list)."
   ]
  },
  {
   "cell_type": "code",
   "execution_count": 38,
   "id": "e316a162-640c-43cb-90bf-11273906a842",
   "metadata": {},
   "outputs": [],
   "source": [
    "#create another class to represent each node of the linked list\n",
    "\n",
    "class Node:\n",
    "    def __init__(self, data):\n",
    "        self.data = data\n",
    "        self.next = None"
   ]
  },
  {
   "cell_type": "markdown",
   "id": "3ba4ba07-6e7e-42a8-8301-2b53468b1772",
   "metadata": {},
   "source": [
    "In the above class definition, you can see the two main elements of every single node: data and next. You can also add a __ repr __ to both classes to have a more helpful representation of the objects."
   ]
  },
  {
   "cell_type": "code",
   "execution_count": 48,
   "id": "b0b6c33c-9a85-4000-8876-69ab23f1a534",
   "metadata": {},
   "outputs": [],
   "source": [
    "class Node:\n",
    "    def __init__(self, data):\n",
    "        self.data = data\n",
    "        self.next = None\n",
    "\n",
    "    def __repr__(self):\n",
    "        return self.data\n",
    "\n",
    "class LinkedList:\n",
    "    def __init__(self, nodes=None):\n",
    "        self.head = None\n",
    "        if nodes is not None:\n",
    "            node = Node(data=nodes.pop(0))\n",
    "            self.head = node\n",
    "            for elem in nodes:\n",
    "                node.next = Node(data=elem)\n",
    "                node = node.next\n",
    "\n",
    "    def __repr__(self):\n",
    "        node = self.head\n",
    "        nodes = []\n",
    "        while node is not None:\n",
    "            nodes.append(node.data)\n",
    "            node = node.next\n",
    "        nodes.append(\"None\")\n",
    "        return \" -> \".join(nodes)\n",
    "\n",
    "    def __iter__(self):\n",
    "        node = self.head\n",
    "        while node is not None:\n",
    "            yield node\n",
    "            node = node.next"
   ]
  },
  {
   "cell_type": "code",
   "execution_count": 40,
   "id": "ea517ad0-f345-4f24-9daf-eca776bf7d80",
   "metadata": {},
   "outputs": [],
   "source": [
    "llist = LinkedList()"
   ]
  },
  {
   "cell_type": "code",
   "execution_count": 41,
   "id": "04a90c94-131b-4056-b41a-1ba9af299689",
   "metadata": {},
   "outputs": [
    {
     "data": {
      "text/plain": [
       "None"
      ]
     },
     "execution_count": 41,
     "metadata": {},
     "output_type": "execute_result"
    }
   ],
   "source": [
    "llist"
   ]
  },
  {
   "cell_type": "code",
   "execution_count": 42,
   "id": "9234e981-d174-41c1-8b79-1fd69e6ebf11",
   "metadata": {},
   "outputs": [],
   "source": [
    "first_node = Node(\"a\")\n",
    "llist.head = first_node"
   ]
  },
  {
   "cell_type": "code",
   "execution_count": 43,
   "id": "df13d1fc-61f5-4339-aa78-002ef2a88415",
   "metadata": {},
   "outputs": [
    {
     "data": {
      "text/plain": [
       "a -> None"
      ]
     },
     "execution_count": 43,
     "metadata": {},
     "output_type": "execute_result"
    }
   ],
   "source": [
    "llist"
   ]
  },
  {
   "cell_type": "code",
   "execution_count": 44,
   "id": "8c82492d-b156-4499-b2a3-1d4df16e37d9",
   "metadata": {},
   "outputs": [],
   "source": [
    "second_node = Node(\"b\")\n",
    "third_node = Node(\"c\")\n",
    "first_node.next = second_node\n",
    "second_node.next = third_node"
   ]
  },
  {
   "cell_type": "code",
   "execution_count": 45,
   "id": "46ec2fe9-6d5a-4f0f-965e-594e77a534d0",
   "metadata": {},
   "outputs": [
    {
     "data": {
      "text/plain": [
       "a -> b -> c -> None"
      ]
     },
     "execution_count": 45,
     "metadata": {},
     "output_type": "execute_result"
    }
   ],
   "source": [
    "llist"
   ]
  },
  {
   "cell_type": "markdown",
   "id": "3190ea60-fb07-489a-a71d-10760a752d63",
   "metadata": {},
   "source": [
    "### How to Traverse a Linked List:\n",
    "\n",
    "One of the most common things you will do with a linked list is to traverse it. Traversing means going through every single node, starting with the head of the linked list and ending on the node that has a next value of None.\n",
    "\n",
    "Traversing is just a fancier way to say iterating. So, with that in mind, create an __ iter__ to add the same behavior to linked lists that you would expect from a normal list."
   ]
  },
  {
   "cell_type": "code",
   "execution_count": 49,
   "id": "179aac2b-19ba-4559-a664-382000f5a313",
   "metadata": {},
   "outputs": [],
   "source": [
    "llist = LinkedList([\"a\", \"b\", \"c\", \"d\", \"e\"])"
   ]
  },
  {
   "cell_type": "code",
   "execution_count": 50,
   "id": "4e10be94-1cf6-4c7f-ab12-d3b04ab0440d",
   "metadata": {},
   "outputs": [
    {
     "data": {
      "text/plain": [
       "a -> b -> c -> d -> e -> None"
      ]
     },
     "execution_count": 50,
     "metadata": {},
     "output_type": "execute_result"
    }
   ],
   "source": [
    "llist"
   ]
  },
  {
   "cell_type": "code",
   "execution_count": 51,
   "id": "0f17dae8-ebd3-4b21-949c-5d552a5c6ebd",
   "metadata": {},
   "outputs": [
    {
     "name": "stdout",
     "output_type": "stream",
     "text": [
      "a\n",
      "b\n",
      "c\n",
      "d\n",
      "e\n"
     ]
    }
   ],
   "source": [
    "for node in llist:\n",
    "    print(node)"
   ]
  },
  {
   "cell_type": "code",
   "execution_count": 52,
   "id": "1645c038-aafd-41f9-90f2-eca4677bcd5a",
   "metadata": {},
   "outputs": [],
   "source": [
    "class Node:\n",
    "    def __init__(self, data):\n",
    "        self.data = data\n",
    "        self.next = None\n",
    "\n",
    "    def __repr__(self):\n",
    "        return self.data"
   ]
  },
  {
   "cell_type": "code",
   "execution_count": 53,
   "id": "f2588b62-1aa0-4eb7-af51-fb77fd134af4",
   "metadata": {},
   "outputs": [],
   "source": [
    "class LinkedList:\n",
    "    def __init__(self, nodes=None):\n",
    "        self.head = None\n",
    "        if nodes is not None:\n",
    "            node = Node(data=nodes.pop(0))\n",
    "            self.head = node\n",
    "            for elem in nodes:\n",
    "                node.next = Node(data=elem)\n",
    "                node = node.next\n",
    "\n",
    "    def __repr__(self):\n",
    "        node = self.head\n",
    "        nodes = []\n",
    "        while node is not None:\n",
    "            nodes.append(node.data)\n",
    "            node = node.next\n",
    "        nodes.append(\"None\")\n",
    "        return \" -> \".join(nodes)\n",
    "\n",
    "    def __iter__(self):\n",
    "        node = self.head\n",
    "        while node is not None:\n",
    "            yield node\n",
    "            node = node.next\n",
    "\n",
    "    def add_first(self, node):\n",
    "        node.next = self.head\n",
    "        self.head = node\n",
    "\n",
    "    def add_last(self, node):\n",
    "        if self.head is None:\n",
    "            self.head = node\n",
    "            return\n",
    "        for current_node in self:\n",
    "            pass\n",
    "        current_node.next = node\n",
    "\n",
    "    def add_after(self, target_node_data, new_node):\n",
    "        if self.head is None:\n",
    "            raise Exception(\"List is empty\")\n",
    "\n",
    "        for node in self:\n",
    "            if node.data == target_node_data:\n",
    "                new_node.next = node.next\n",
    "                node.next = new_node\n",
    "                return\n",
    "\n",
    "        raise Exception(\"Node with data '%s' not found\" % target_node_data)\n",
    "\n",
    "    def add_before(self, target_node_data, new_node):\n",
    "        if self.head is None:\n",
    "            raise Exception(\"List is empty\")\n",
    "\n",
    "        if self.head.data == target_node_data:\n",
    "            return self.add_first(new_node)\n",
    "\n",
    "        prev_node = self.head\n",
    "        for node in self:\n",
    "            if node.data == target_node_data:\n",
    "                prev_node.next = new_node\n",
    "                new_node.next = node\n",
    "                return\n",
    "            prev_node = node\n",
    "\n",
    "        raise Exception(\"Node with data '%s' not found\" % target_node_data)\n",
    "\n",
    "    def remove_node(self, target_node_data):\n",
    "        if self.head is None:\n",
    "            raise Exception(\"List is empty\")\n",
    "\n",
    "        if self.head.data == target_node_data:\n",
    "            self.head = self.head.next\n",
    "            return\n",
    "\n",
    "        previous_node = self.head\n",
    "        for node in self:\n",
    "            if node.data == target_node_data:\n",
    "                previous_node.next = node.next\n",
    "                return\n",
    "            previous_node = node\n",
    "\n",
    "        raise Exception(\"Node with data '%s' not found\" % target_node_data)"
   ]
  },
  {
   "cell_type": "markdown",
   "id": "af9b8ded-9c9a-473f-af96-c12de1149c17",
   "metadata": {},
   "source": [
    "### Inserting at the Beginning:\n",
    "\n",
    "\n",
    "Inserting a new node at the beginning of a list is probably the most straightforward insertion since you don’t have to traverse the whole list to do it. It’s all about creating a new node and then pointing the head of the list to it. As you can see, add_first() always adds the node to the head of the list, even if the list was empty before.\n",
    "\n",
    "    def add_first(self, node):\n",
    "        node.next = self.head\n",
    "        self.head = node"
   ]
  },
  {
   "cell_type": "code",
   "execution_count": 54,
   "id": "c4283bb3-0f57-4732-98e8-e409b42e17bd",
   "metadata": {},
   "outputs": [],
   "source": [
    "llist = LinkedList()"
   ]
  },
  {
   "cell_type": "code",
   "execution_count": 55,
   "id": "ec2b1fa6-322c-4445-aed7-2b37fd2e292e",
   "metadata": {},
   "outputs": [
    {
     "data": {
      "text/plain": [
       "None"
      ]
     },
     "execution_count": 55,
     "metadata": {},
     "output_type": "execute_result"
    }
   ],
   "source": [
    "llist"
   ]
  },
  {
   "cell_type": "code",
   "execution_count": 56,
   "id": "e0977943-ee29-4483-999c-92c604f1926a",
   "metadata": {},
   "outputs": [],
   "source": [
    "llist.add_first(Node(\"b\"))"
   ]
  },
  {
   "cell_type": "code",
   "execution_count": 57,
   "id": "aea4a49e-ab49-4826-b6e6-9a5d43704ad0",
   "metadata": {},
   "outputs": [],
   "source": [
    "llist.add_first(Node(\"a\"))"
   ]
  },
  {
   "cell_type": "code",
   "execution_count": 58,
   "id": "4532a179-7ba3-4c47-89e1-81b1a54e054b",
   "metadata": {},
   "outputs": [
    {
     "data": {
      "text/plain": [
       "a -> b -> None"
      ]
     },
     "execution_count": 58,
     "metadata": {},
     "output_type": "execute_result"
    }
   ],
   "source": [
    "llist"
   ]
  },
  {
   "cell_type": "markdown",
   "id": "405fba9a-57cf-4102-b035-b7398d3ab93c",
   "metadata": {},
   "source": [
    "### Inserting at the End:\n",
    "\n",
    "\n",
    "Inserting a new node at the end of the list forces you to traverse the whole linked list first and to add the new node when you reach the end. You can’t just append to the end as you would with a normal list because in a linked list you don’t know which node is last.\n",
    "\n",
    "\n",
    "First, you want to traverse the whole list until you reach the end (that is, until the for loop raises a StopIteration exception). Next, you want to set the current_node as the last node on the list. Finally, you want to add the new node as the next value of that current_node.\n",
    "\n",
    "you start by creating a list with four values (a, b, c, and d). Then, when you add new nodes using add_last(), you can see that the nodes are always appended to the end of the list.\n",
    "\n",
    "    def add_last(self, node):\n",
    "        if self.head is None:\n",
    "            self.head = node\n",
    "            return\n",
    "        for current_node in self:\n",
    "            pass\n",
    "        current_node.next = node"
   ]
  },
  {
   "cell_type": "code",
   "execution_count": 59,
   "id": "ebf60a34-5ed4-458a-87a9-94491446e116",
   "metadata": {},
   "outputs": [],
   "source": [
    "llist = LinkedList([\"a\", \"b\", \"c\", \"d\"])"
   ]
  },
  {
   "cell_type": "code",
   "execution_count": 60,
   "id": "868bccfa-9508-4e9a-892f-6790b2e88fdd",
   "metadata": {},
   "outputs": [
    {
     "data": {
      "text/plain": [
       "a -> b -> c -> d -> None"
      ]
     },
     "execution_count": 60,
     "metadata": {},
     "output_type": "execute_result"
    }
   ],
   "source": [
    "llist"
   ]
  },
  {
   "cell_type": "code",
   "execution_count": 61,
   "id": "01310fce-ef03-46cd-8f6f-89f5c50a6bf5",
   "metadata": {},
   "outputs": [],
   "source": [
    "llist.add_last(Node(\"e\"))\n",
    "llist.add_last(Node(\"f\"))"
   ]
  },
  {
   "cell_type": "code",
   "execution_count": 62,
   "id": "e54379a2-d6f4-45a1-982b-314a4bec2b48",
   "metadata": {},
   "outputs": [
    {
     "data": {
      "text/plain": [
       "a -> b -> c -> d -> e -> f -> None"
      ]
     },
     "execution_count": 62,
     "metadata": {},
     "output_type": "execute_result"
    }
   ],
   "source": [
    "llist"
   ]
  },
  {
   "cell_type": "markdown",
   "id": "d0d7b118-4e98-4776-bb15-e60fe60b82df",
   "metadata": {},
   "source": [
    "### Inserting Between Two Nodes:\n",
    "\n",
    "\n",
    "Inserting between two nodes adds yet another layer of complexity to the linked list’s already complex insertions because there are two different approaches that you can use:\n",
    "\n",
    "1. Inserting after an existing node\n",
    "2. Inserting before an existing node\n",
    "\n",
    "It might seem weird to split these into two methods, but linked lists behave differently than normal lists, and you need a different implementation for each case.\n",
    "\n",
    "add_after() method that adds a node after an existing node with a specific data value.\n",
    "\n",
    "Inadd_after() method you’re traversing the linked list looking for the node with data indicating where you want to insert a new node. When you find the node you’re looking for, you’ll insert the new node immediately after it and rewire the next reference to maintain the consistency of the list.\n",
    "\n",
    "The only exceptions are if the list is empty, making it impossible to insert a new node after an existing node, or if the list does not contain the value you’re searching for. \n",
    "\n",
    "Trying to use add_after() on an empty list results in an exception. The same happens when you try to add after a nonexistent node. Everything else works as expected.\n",
    "\n",
    "\n",
    "    def add_after(self, target_node_data, new_node):\n",
    "        if self.head is None:\n",
    "            raise Exception(\"List is empty\")\n",
    "\n",
    "        for node in self:\n",
    "            if node.data == target_node_data:\n",
    "                new_node.next = node.next\n",
    "                node.next = new_node\n",
    "                return\n",
    "\n",
    "        raise Exception(\"Node with data '%s' not found\" % target_node_data)"
   ]
  },
  {
   "cell_type": "code",
   "execution_count": 63,
   "id": "a2cfcf61-6c71-4454-a399-792cc185da6d",
   "metadata": {},
   "outputs": [],
   "source": [
    "llist = LinkedList()"
   ]
  },
  {
   "cell_type": "code",
   "execution_count": 64,
   "id": "5fcda514-8e12-4140-a26c-6cdf829c6eab",
   "metadata": {},
   "outputs": [
    {
     "ename": "Exception",
     "evalue": "List is empty",
     "output_type": "error",
     "traceback": [
      "\u001b[1;31m---------------------------------------------------------------------------\u001b[0m",
      "\u001b[1;31mException\u001b[0m                                 Traceback (most recent call last)",
      "Cell \u001b[1;32mIn[64], line 1\u001b[0m\n\u001b[1;32m----> 1\u001b[0m \u001b[43mllist\u001b[49m\u001b[38;5;241;43m.\u001b[39;49m\u001b[43madd_after\u001b[49m\u001b[43m(\u001b[49m\u001b[38;5;124;43m\"\u001b[39;49m\u001b[38;5;124;43ma\u001b[39;49m\u001b[38;5;124;43m\"\u001b[39;49m\u001b[43m,\u001b[49m\u001b[43m \u001b[49m\u001b[43mNode\u001b[49m\u001b[43m(\u001b[49m\u001b[38;5;124;43m\"\u001b[39;49m\u001b[38;5;124;43mb\u001b[39;49m\u001b[38;5;124;43m\"\u001b[39;49m\u001b[43m)\u001b[49m\u001b[43m)\u001b[49m\n",
      "Cell \u001b[1;32mIn[53], line 40\u001b[0m, in \u001b[0;36mLinkedList.add_after\u001b[1;34m(self, target_node_data, new_node)\u001b[0m\n\u001b[0;32m     38\u001b[0m \u001b[38;5;28;01mdef\u001b[39;00m \u001b[38;5;21madd_after\u001b[39m(\u001b[38;5;28mself\u001b[39m, target_node_data, new_node):\n\u001b[0;32m     39\u001b[0m     \u001b[38;5;28;01mif\u001b[39;00m \u001b[38;5;28mself\u001b[39m\u001b[38;5;241m.\u001b[39mhead \u001b[38;5;129;01mis\u001b[39;00m \u001b[38;5;28;01mNone\u001b[39;00m:\n\u001b[1;32m---> 40\u001b[0m         \u001b[38;5;28;01mraise\u001b[39;00m \u001b[38;5;167;01mException\u001b[39;00m(\u001b[38;5;124m\"\u001b[39m\u001b[38;5;124mList is empty\u001b[39m\u001b[38;5;124m\"\u001b[39m)\n\u001b[0;32m     42\u001b[0m     \u001b[38;5;28;01mfor\u001b[39;00m node \u001b[38;5;129;01min\u001b[39;00m \u001b[38;5;28mself\u001b[39m:\n\u001b[0;32m     43\u001b[0m         \u001b[38;5;28;01mif\u001b[39;00m node\u001b[38;5;241m.\u001b[39mdata \u001b[38;5;241m==\u001b[39m target_node_data:\n",
      "\u001b[1;31mException\u001b[0m: List is empty"
     ]
    }
   ],
   "source": [
    "llist.add_after(\"a\", Node(\"b\"))"
   ]
  },
  {
   "cell_type": "code",
   "execution_count": 65,
   "id": "04d56d78-aa22-4a54-86f2-ed2113fddf09",
   "metadata": {},
   "outputs": [],
   "source": [
    "llist = LinkedList([\"a\", \"b\", \"c\", \"d\"])"
   ]
  },
  {
   "cell_type": "code",
   "execution_count": 66,
   "id": "1dd15c52-57cd-4eaa-9e10-6936425eee21",
   "metadata": {},
   "outputs": [
    {
     "data": {
      "text/plain": [
       "a -> b -> c -> d -> None"
      ]
     },
     "execution_count": 66,
     "metadata": {},
     "output_type": "execute_result"
    }
   ],
   "source": [
    "llist"
   ]
  },
  {
   "cell_type": "code",
   "execution_count": 67,
   "id": "bd23888f-0946-46d5-acb1-63ffadda2a91",
   "metadata": {},
   "outputs": [],
   "source": [
    "llist.add_after(\"c\", Node(\"cc\"))"
   ]
  },
  {
   "cell_type": "code",
   "execution_count": 68,
   "id": "ba34a561-a2f2-41d3-a611-ee979a7c2f71",
   "metadata": {},
   "outputs": [
    {
     "data": {
      "text/plain": [
       "a -> b -> c -> cc -> d -> None"
      ]
     },
     "execution_count": 68,
     "metadata": {},
     "output_type": "execute_result"
    }
   ],
   "source": [
    "llist"
   ]
  },
  {
   "cell_type": "code",
   "execution_count": 69,
   "id": "da667457-ccb4-4d22-b31f-a7c48ad3268e",
   "metadata": {},
   "outputs": [
    {
     "ename": "Exception",
     "evalue": "Node with data 'f' not found",
     "output_type": "error",
     "traceback": [
      "\u001b[1;31m---------------------------------------------------------------------------\u001b[0m",
      "\u001b[1;31mException\u001b[0m                                 Traceback (most recent call last)",
      "Cell \u001b[1;32mIn[69], line 1\u001b[0m\n\u001b[1;32m----> 1\u001b[0m \u001b[43mllist\u001b[49m\u001b[38;5;241;43m.\u001b[39;49m\u001b[43madd_after\u001b[49m\u001b[43m(\u001b[49m\u001b[38;5;124;43m\"\u001b[39;49m\u001b[38;5;124;43mf\u001b[39;49m\u001b[38;5;124;43m\"\u001b[39;49m\u001b[43m,\u001b[49m\u001b[43m \u001b[49m\u001b[43mNode\u001b[49m\u001b[43m(\u001b[49m\u001b[38;5;124;43m\"\u001b[39;49m\u001b[38;5;124;43mg\u001b[39;49m\u001b[38;5;124;43m\"\u001b[39;49m\u001b[43m)\u001b[49m\u001b[43m)\u001b[49m\n",
      "Cell \u001b[1;32mIn[53], line 48\u001b[0m, in \u001b[0;36mLinkedList.add_after\u001b[1;34m(self, target_node_data, new_node)\u001b[0m\n\u001b[0;32m     45\u001b[0m         node\u001b[38;5;241m.\u001b[39mnext \u001b[38;5;241m=\u001b[39m new_node\n\u001b[0;32m     46\u001b[0m         \u001b[38;5;28;01mreturn\u001b[39;00m\n\u001b[1;32m---> 48\u001b[0m \u001b[38;5;28;01mraise\u001b[39;00m \u001b[38;5;167;01mException\u001b[39;00m(\u001b[38;5;124m\"\u001b[39m\u001b[38;5;124mNode with data \u001b[39m\u001b[38;5;124m'\u001b[39m\u001b[38;5;132;01m%s\u001b[39;00m\u001b[38;5;124m'\u001b[39m\u001b[38;5;124m not found\u001b[39m\u001b[38;5;124m\"\u001b[39m \u001b[38;5;241m%\u001b[39m target_node_data)\n",
      "\u001b[1;31mException\u001b[0m: Node with data 'f' not found"
     ]
    }
   ],
   "source": [
    "llist.add_after(\"f\", Node(\"g\"))"
   ]
  },
  {
   "cell_type": "markdown",
   "id": "ee326a38-7e43-44f7-ada5-391aeccfb522",
   "metadata": {},
   "source": [
    "if you want to implement add_before() there are a few things to keep in mind while implementing the above. First, as with add_after(), you want to make sure to raise an exception if the linked list is empty or the node you’re looking for is not present.\n",
    "\n",
    "Second, if you’re trying to add a new node before the head of the list , then you can reuse add_first() because the node you’re inserting will be the new head of the list.\n",
    "\n",
    "Finally, for any other case , you should keep track of the last-checked node using the prev_node variable. Then, when you find the target node, you can use that prev_node variable to rewire the next values.\n",
    "\n",
    "\n",
    "    def add_before(self, target_node_data, new_node):\n",
    "        if self.head is None:\n",
    "            raise Exception(\"List is empty\")\n",
    "\n",
    "        if self.head.data == target_node_data:\n",
    "            return self.add_first(new_node)\n",
    "\n",
    "        prev_node = self.head\n",
    "        for node in self:\n",
    "            if node.data == target_node_data:\n",
    "                prev_node.next = new_node\n",
    "                new_node.next = node\n",
    "                return\n",
    "            prev_node = node\n",
    "\n",
    "        raise Exception(\"Node with data '%s' not found\" % target_node_data)"
   ]
  },
  {
   "cell_type": "code",
   "execution_count": 70,
   "id": "83d1072a-c6a7-4fac-b4a2-d2b94a7a4d11",
   "metadata": {},
   "outputs": [],
   "source": [
    "llist = LinkedList()"
   ]
  },
  {
   "cell_type": "code",
   "execution_count": 71,
   "id": "c2943b73-caea-45cc-88e6-2823479caa6a",
   "metadata": {},
   "outputs": [
    {
     "ename": "Exception",
     "evalue": "List is empty",
     "output_type": "error",
     "traceback": [
      "\u001b[1;31m---------------------------------------------------------------------------\u001b[0m",
      "\u001b[1;31mException\u001b[0m                                 Traceback (most recent call last)",
      "Cell \u001b[1;32mIn[71], line 1\u001b[0m\n\u001b[1;32m----> 1\u001b[0m \u001b[43mllist\u001b[49m\u001b[38;5;241;43m.\u001b[39;49m\u001b[43madd_before\u001b[49m\u001b[43m(\u001b[49m\u001b[38;5;124;43m\"\u001b[39;49m\u001b[38;5;124;43ma\u001b[39;49m\u001b[38;5;124;43m\"\u001b[39;49m\u001b[43m,\u001b[49m\u001b[43m \u001b[49m\u001b[43mNode\u001b[49m\u001b[43m(\u001b[49m\u001b[38;5;124;43m\"\u001b[39;49m\u001b[38;5;124;43ma\u001b[39;49m\u001b[38;5;124;43m\"\u001b[39;49m\u001b[43m)\u001b[49m\u001b[43m)\u001b[49m\n",
      "Cell \u001b[1;32mIn[53], line 52\u001b[0m, in \u001b[0;36mLinkedList.add_before\u001b[1;34m(self, target_node_data, new_node)\u001b[0m\n\u001b[0;32m     50\u001b[0m \u001b[38;5;28;01mdef\u001b[39;00m \u001b[38;5;21madd_before\u001b[39m(\u001b[38;5;28mself\u001b[39m, target_node_data, new_node):\n\u001b[0;32m     51\u001b[0m     \u001b[38;5;28;01mif\u001b[39;00m \u001b[38;5;28mself\u001b[39m\u001b[38;5;241m.\u001b[39mhead \u001b[38;5;129;01mis\u001b[39;00m \u001b[38;5;28;01mNone\u001b[39;00m:\n\u001b[1;32m---> 52\u001b[0m         \u001b[38;5;28;01mraise\u001b[39;00m \u001b[38;5;167;01mException\u001b[39;00m(\u001b[38;5;124m\"\u001b[39m\u001b[38;5;124mList is empty\u001b[39m\u001b[38;5;124m\"\u001b[39m)\n\u001b[0;32m     54\u001b[0m     \u001b[38;5;28;01mif\u001b[39;00m \u001b[38;5;28mself\u001b[39m\u001b[38;5;241m.\u001b[39mhead\u001b[38;5;241m.\u001b[39mdata \u001b[38;5;241m==\u001b[39m target_node_data:\n\u001b[0;32m     55\u001b[0m         \u001b[38;5;28;01mreturn\u001b[39;00m \u001b[38;5;28mself\u001b[39m\u001b[38;5;241m.\u001b[39madd_first(new_node)\n",
      "\u001b[1;31mException\u001b[0m: List is empty"
     ]
    }
   ],
   "source": [
    "llist.add_before(\"a\", Node(\"a\"))"
   ]
  },
  {
   "cell_type": "code",
   "execution_count": 72,
   "id": "556b4979-2279-4dfc-b626-81a9cd914268",
   "metadata": {},
   "outputs": [],
   "source": [
    "llist = LinkedList([\"b\", \"c\"])"
   ]
  },
  {
   "cell_type": "code",
   "execution_count": 73,
   "id": "9a6146c5-55af-41f4-abe3-9f29b85cdca1",
   "metadata": {},
   "outputs": [
    {
     "data": {
      "text/plain": [
       "b -> c -> None"
      ]
     },
     "execution_count": 73,
     "metadata": {},
     "output_type": "execute_result"
    }
   ],
   "source": [
    "llist"
   ]
  },
  {
   "cell_type": "code",
   "execution_count": 74,
   "id": "8e0701ec-7a36-475e-accf-865719cb971f",
   "metadata": {},
   "outputs": [],
   "source": [
    "llist.add_before(\"b\", Node(\"a\"))"
   ]
  },
  {
   "cell_type": "code",
   "execution_count": 75,
   "id": "fdfdfa58-194c-4b20-aa75-bacb3d50aa7b",
   "metadata": {},
   "outputs": [
    {
     "data": {
      "text/plain": [
       "a -> b -> c -> None"
      ]
     },
     "execution_count": 75,
     "metadata": {},
     "output_type": "execute_result"
    }
   ],
   "source": [
    "llist"
   ]
  },
  {
   "cell_type": "code",
   "execution_count": 76,
   "id": "4f8b2a20-56f9-4776-bafe-4d3b5ad767d3",
   "metadata": {},
   "outputs": [],
   "source": [
    "llist.add_before(\"b\", Node(\"aa\"))\n",
    "llist.add_before(\"c\", Node(\"bb\"))"
   ]
  },
  {
   "cell_type": "code",
   "execution_count": 77,
   "id": "a55b865b-73e8-49ba-b16f-088f03fed659",
   "metadata": {},
   "outputs": [
    {
     "data": {
      "text/plain": [
       "a -> aa -> b -> bb -> c -> None"
      ]
     },
     "execution_count": 77,
     "metadata": {},
     "output_type": "execute_result"
    }
   ],
   "source": [
    "llist"
   ]
  },
  {
   "cell_type": "code",
   "execution_count": 78,
   "id": "6b7b3f70-195b-4ef7-a2b6-062615dd503c",
   "metadata": {},
   "outputs": [
    {
     "ename": "Exception",
     "evalue": "Node with data 'n' not found",
     "output_type": "error",
     "traceback": [
      "\u001b[1;31m---------------------------------------------------------------------------\u001b[0m",
      "\u001b[1;31mException\u001b[0m                                 Traceback (most recent call last)",
      "Cell \u001b[1;32mIn[78], line 1\u001b[0m\n\u001b[1;32m----> 1\u001b[0m \u001b[43mllist\u001b[49m\u001b[38;5;241;43m.\u001b[39;49m\u001b[43madd_before\u001b[49m\u001b[43m(\u001b[49m\u001b[38;5;124;43m\"\u001b[39;49m\u001b[38;5;124;43mn\u001b[39;49m\u001b[38;5;124;43m\"\u001b[39;49m\u001b[43m,\u001b[49m\u001b[43m \u001b[49m\u001b[43mNode\u001b[49m\u001b[43m(\u001b[49m\u001b[38;5;124;43m\"\u001b[39;49m\u001b[38;5;124;43mm\u001b[39;49m\u001b[38;5;124;43m\"\u001b[39;49m\u001b[43m)\u001b[49m\u001b[43m)\u001b[49m\n",
      "Cell \u001b[1;32mIn[53], line 65\u001b[0m, in \u001b[0;36mLinkedList.add_before\u001b[1;34m(self, target_node_data, new_node)\u001b[0m\n\u001b[0;32m     62\u001b[0m         \u001b[38;5;28;01mreturn\u001b[39;00m\n\u001b[0;32m     63\u001b[0m     prev_node \u001b[38;5;241m=\u001b[39m node\n\u001b[1;32m---> 65\u001b[0m \u001b[38;5;28;01mraise\u001b[39;00m \u001b[38;5;167;01mException\u001b[39;00m(\u001b[38;5;124m\"\u001b[39m\u001b[38;5;124mNode with data \u001b[39m\u001b[38;5;124m'\u001b[39m\u001b[38;5;132;01m%s\u001b[39;00m\u001b[38;5;124m'\u001b[39m\u001b[38;5;124m not found\u001b[39m\u001b[38;5;124m\"\u001b[39m \u001b[38;5;241m%\u001b[39m target_node_data)\n",
      "\u001b[1;31mException\u001b[0m: Node with data 'n' not found"
     ]
    }
   ],
   "source": [
    "llist.add_before(\"n\", Node(\"m\"))"
   ]
  },
  {
   "cell_type": "markdown",
   "id": "d4a6ac54-9b54-45d6-a710-2b05df647862",
   "metadata": {},
   "source": [
    "### How to Remove a Node: \n",
    "\n",
    "\n",
    "To remove a node from a linked list, you first need to traverse the list until you find the node you want to remove. Once you find the target, you want to link its previous and next nodes. This re-linking is what removes the target node from the list.\n",
    "\n",
    "\n",
    "That means you need to keep track of the previous node as you traverse the list. \n",
    "\n",
    "\n",
    "First check that your list is not empty. If it is, then you raise an exception. After that, you check if the node to be removed is the current head of the list. If it is, then you want the next node in the list to become the new head.\n",
    "\n",
    "If none of the above happens, then you start traversing the list looking for the node to be removed. If you find it, then you need to update its previous node to point to its next node, automatically removing the found node from the list. Finally, if you traverse the whole list without finding the node to be removed, then you raise an exception.\n",
    "\n",
    "Notice how in the above code you use previous_node to keep track of the, well, previous node. Doing so ensures that the whole process will be much more straightforward when you find the right node to be deleted.\n",
    "\n",
    "\n",
    "    def remove_node(self, target_node_data):\n",
    "        if self.head is None:\n",
    "            raise Exception(\"List is empty\")\n",
    "\n",
    "        if self.head.data == target_node_data:\n",
    "            self.head = self.head.next\n",
    "            return\n",
    "\n",
    "        previous_node = self.head\n",
    "        for node in self:\n",
    "            if node.data == target_node_data:\n",
    "                previous_node.next = node.next\n",
    "                return\n",
    "            previous_node = node\n",
    "\n",
    "        raise Exception(\"Node with data '%s' not found\" % target_node_data)"
   ]
  },
  {
   "cell_type": "code",
   "execution_count": 79,
   "id": "2c7b0a16-f0a7-4d3e-ae51-0396fc851505",
   "metadata": {},
   "outputs": [],
   "source": [
    "llist = LinkedList()"
   ]
  },
  {
   "cell_type": "code",
   "execution_count": 80,
   "id": "e87c3695-a3f8-4e43-99ed-fffea9a0a102",
   "metadata": {},
   "outputs": [
    {
     "ename": "Exception",
     "evalue": "List is empty",
     "output_type": "error",
     "traceback": [
      "\u001b[1;31m---------------------------------------------------------------------------\u001b[0m",
      "\u001b[1;31mException\u001b[0m                                 Traceback (most recent call last)",
      "Cell \u001b[1;32mIn[80], line 1\u001b[0m\n\u001b[1;32m----> 1\u001b[0m \u001b[43mllist\u001b[49m\u001b[38;5;241;43m.\u001b[39;49m\u001b[43mremove_node\u001b[49m\u001b[43m(\u001b[49m\u001b[38;5;124;43m\"\u001b[39;49m\u001b[38;5;124;43ma\u001b[39;49m\u001b[38;5;124;43m\"\u001b[39;49m\u001b[43m)\u001b[49m\n",
      "Cell \u001b[1;32mIn[53], line 69\u001b[0m, in \u001b[0;36mLinkedList.remove_node\u001b[1;34m(self, target_node_data)\u001b[0m\n\u001b[0;32m     67\u001b[0m \u001b[38;5;28;01mdef\u001b[39;00m \u001b[38;5;21mremove_node\u001b[39m(\u001b[38;5;28mself\u001b[39m, target_node_data):\n\u001b[0;32m     68\u001b[0m     \u001b[38;5;28;01mif\u001b[39;00m \u001b[38;5;28mself\u001b[39m\u001b[38;5;241m.\u001b[39mhead \u001b[38;5;129;01mis\u001b[39;00m \u001b[38;5;28;01mNone\u001b[39;00m:\n\u001b[1;32m---> 69\u001b[0m         \u001b[38;5;28;01mraise\u001b[39;00m \u001b[38;5;167;01mException\u001b[39;00m(\u001b[38;5;124m\"\u001b[39m\u001b[38;5;124mList is empty\u001b[39m\u001b[38;5;124m\"\u001b[39m)\n\u001b[0;32m     71\u001b[0m     \u001b[38;5;28;01mif\u001b[39;00m \u001b[38;5;28mself\u001b[39m\u001b[38;5;241m.\u001b[39mhead\u001b[38;5;241m.\u001b[39mdata \u001b[38;5;241m==\u001b[39m target_node_data:\n\u001b[0;32m     72\u001b[0m         \u001b[38;5;28mself\u001b[39m\u001b[38;5;241m.\u001b[39mhead \u001b[38;5;241m=\u001b[39m \u001b[38;5;28mself\u001b[39m\u001b[38;5;241m.\u001b[39mhead\u001b[38;5;241m.\u001b[39mnext\n",
      "\u001b[1;31mException\u001b[0m: List is empty"
     ]
    }
   ],
   "source": [
    "llist.remove_node(\"a\")"
   ]
  },
  {
   "cell_type": "code",
   "execution_count": 81,
   "id": "472443fb-d719-4717-9d59-2d35c1e16a6f",
   "metadata": {},
   "outputs": [],
   "source": [
    "llist = LinkedList([\"a\", \"b\", \"c\", \"d\", \"e\"])"
   ]
  },
  {
   "cell_type": "code",
   "execution_count": 82,
   "id": "54ec974b-6b26-4066-aab6-f957ef4fc469",
   "metadata": {},
   "outputs": [
    {
     "data": {
      "text/plain": [
       "a -> b -> c -> d -> e -> None"
      ]
     },
     "execution_count": 82,
     "metadata": {},
     "output_type": "execute_result"
    }
   ],
   "source": [
    "llist"
   ]
  },
  {
   "cell_type": "code",
   "execution_count": 83,
   "id": "4ff78674-adab-4177-a3a0-b29d2eb7a099",
   "metadata": {},
   "outputs": [],
   "source": [
    "llist.remove_node(\"a\")"
   ]
  },
  {
   "cell_type": "code",
   "execution_count": 84,
   "id": "75aae5dd-9db8-4de4-aaba-c65e917ebb2b",
   "metadata": {},
   "outputs": [],
   "source": [
    "llist.remove_node(\"e\")"
   ]
  },
  {
   "cell_type": "code",
   "execution_count": 85,
   "id": "0c1b39eb-b435-4d10-aeaf-36fa06926b18",
   "metadata": {},
   "outputs": [
    {
     "data": {
      "text/plain": [
       "b -> c -> d -> None"
      ]
     },
     "execution_count": 85,
     "metadata": {},
     "output_type": "execute_result"
    }
   ],
   "source": [
    "llist"
   ]
  },
  {
   "cell_type": "code",
   "execution_count": 86,
   "id": "7fbab300-2ddc-4175-9705-d72a313efac6",
   "metadata": {},
   "outputs": [
    {
     "ename": "Exception",
     "evalue": "Node with data 'a' not found",
     "output_type": "error",
     "traceback": [
      "\u001b[1;31m---------------------------------------------------------------------------\u001b[0m",
      "\u001b[1;31mException\u001b[0m                                 Traceback (most recent call last)",
      "Cell \u001b[1;32mIn[86], line 1\u001b[0m\n\u001b[1;32m----> 1\u001b[0m \u001b[43mllist\u001b[49m\u001b[38;5;241;43m.\u001b[39;49m\u001b[43mremove_node\u001b[49m\u001b[43m(\u001b[49m\u001b[38;5;124;43m\"\u001b[39;49m\u001b[38;5;124;43ma\u001b[39;49m\u001b[38;5;124;43m\"\u001b[39;49m\u001b[43m)\u001b[49m\n",
      "Cell \u001b[1;32mIn[53], line 82\u001b[0m, in \u001b[0;36mLinkedList.remove_node\u001b[1;34m(self, target_node_data)\u001b[0m\n\u001b[0;32m     79\u001b[0m         \u001b[38;5;28;01mreturn\u001b[39;00m\n\u001b[0;32m     80\u001b[0m     previous_node \u001b[38;5;241m=\u001b[39m node\n\u001b[1;32m---> 82\u001b[0m \u001b[38;5;28;01mraise\u001b[39;00m \u001b[38;5;167;01mException\u001b[39;00m(\u001b[38;5;124m\"\u001b[39m\u001b[38;5;124mNode with data \u001b[39m\u001b[38;5;124m'\u001b[39m\u001b[38;5;132;01m%s\u001b[39;00m\u001b[38;5;124m'\u001b[39m\u001b[38;5;124m not found\u001b[39m\u001b[38;5;124m\"\u001b[39m \u001b[38;5;241m%\u001b[39m target_node_data)\n",
      "\u001b[1;31mException\u001b[0m: Node with data 'a' not found"
     ]
    }
   ],
   "source": [
    "llist.remove_node(\"a\")"
   ]
  },
  {
   "cell_type": "markdown",
   "id": "c4f92f08-0945-4295-9393-c0b4f2428539",
   "metadata": {},
   "source": [
    "Doubly linked lists are different from singly linked lists in that they have two references:\n",
    "\n",
    "1. The previous field references the previous node.\n",
    "2. The next field references the next node.\n",
    "\n",
    "If you wanted to implement the above, then you could make some changes to your existing Node class in order to include a previous field:\n",
    "\n",
    "\n",
    "class Node:\n",
    "\n",
    "    def __ init __(self, data):\n",
    "    \n",
    "        self.data = data\n",
    "        \n",
    "        self.next = None\n",
    "        \n",
    "        self.previous = None\n",
    "        \n",
    "\n",
    "This kind of implementation would allow you to traverse a list in both directions instead of only traversing using next. You could use next to go forward and previous to go backward. \n",
    "\n",
    "You learned earlier that collections.deque uses a linked list as part of its data structure. This is the kind of linked list it uses. With doubly linked lists, deque is capable of inserting or deleting elements from both ends of a queue with constant O(1) performance.\n"
   ]
  },
  {
   "cell_type": "markdown",
   "id": "b852fed6-13ac-49ad-83a1-1090ed483589",
   "metadata": {},
   "source": [
    "### Circular linked list:\n",
    "Circular linked lists are a type of linked list in which the last node points back to the head of the list instead of pointing to None. This is what makes them circular. Circular linked lists have quite a few interesting use cases:\n",
    "\n",
    "1. Going around each player’s turn in a multiplayer game\n",
    "2. Managing the application life cycle of a given operating system\n",
    "3. Implementing a Fibonacci heap ( Fibonacci heap is a collection of trees satisfying the minimum-heap property, that is, the key of a child is always greater than or equal to the key of the parent. This implies that the minimum key is always at the root of one of the trees.)\n",
    "\n",
    "One of the advantages of circular linked lists is that you can traverse the whole list starting at any node. Since the last node points to the head of the list, you need to make sure that you stop traversing when you reach the starting point. Otherwise, you’ll end up in an infinite loop.\n",
    "\n",
    "In terms of implementation, circular linked lists are very similar to singly linked list. The only difference is that you can define the starting point when you traverse the list\n",
    "\n",
    "Traversing the list now receives an additional argument, starting_point, that is used to define the start and (because the list is circular) the end of the iteration process. Apart from that, much of the code is the same as what we had in our LinkedList class."
   ]
  },
  {
   "cell_type": "code",
   "execution_count": 87,
   "id": "69849699-c3c1-44ea-a351-ae083325f5f4",
   "metadata": {},
   "outputs": [],
   "source": [
    "class CircularLinkedList:\n",
    "    def __init__(self):\n",
    "        self.head = None\n",
    "\n",
    "    def traverse(self, starting_point=None):\n",
    "        if starting_point is None:\n",
    "            starting_point = self.head\n",
    "        node = starting_point\n",
    "        while node is not None and (node.next != starting_point):\n",
    "            yield node\n",
    "            node = node.next\n",
    "        yield node\n",
    "\n",
    "    def print_list(self, starting_point=None):\n",
    "        nodes = []\n",
    "        for node in self.traverse(starting_point):\n",
    "            nodes.append(str(node))\n",
    "        print(\" -> \".join(nodes))"
   ]
  },
  {
   "cell_type": "code",
   "execution_count": 88,
   "id": "bd903680-ff0c-4c08-ad9f-10346d338d8a",
   "metadata": {},
   "outputs": [],
   "source": [
    "circular_llist = CircularLinkedList()"
   ]
  },
  {
   "cell_type": "code",
   "execution_count": 89,
   "id": "ed6b994b-ff97-43cb-bb8e-5e2066734780",
   "metadata": {},
   "outputs": [
    {
     "data": {
      "text/plain": [
       "<__main__.CircularLinkedList at 0x25bafca1fd0>"
      ]
     },
     "execution_count": 89,
     "metadata": {},
     "output_type": "execute_result"
    }
   ],
   "source": [
    "circular_llist"
   ]
  },
  {
   "cell_type": "code",
   "execution_count": 90,
   "id": "35f719de-8282-4cb4-b647-85dcdf7f66c5",
   "metadata": {},
   "outputs": [
    {
     "name": "stdout",
     "output_type": "stream",
     "text": [
      "None\n"
     ]
    }
   ],
   "source": [
    "circular_llist.print_list()"
   ]
  },
  {
   "cell_type": "code",
   "execution_count": 91,
   "id": "581467cc-3550-407f-8a08-7997ce722c55",
   "metadata": {},
   "outputs": [],
   "source": [
    "a = Node(\"a\")\n",
    "b = Node(\"b\")\n",
    "c = Node(\"c\")\n",
    "d = Node(\"d\")\n",
    "a.next = b\n",
    "b.next = c\n",
    "c.next = d\n",
    "d.next = a"
   ]
  },
  {
   "cell_type": "code",
   "execution_count": 92,
   "id": "c0ca0488-7c95-463f-b3f4-fd2903eeb379",
   "metadata": {},
   "outputs": [],
   "source": [
    "circular_llist.head = a"
   ]
  },
  {
   "cell_type": "code",
   "execution_count": 93,
   "id": "d8e2ae23-593c-4e5a-b02b-6ce9c1231b85",
   "metadata": {},
   "outputs": [
    {
     "name": "stdout",
     "output_type": "stream",
     "text": [
      "a -> b -> c -> d\n"
     ]
    }
   ],
   "source": [
    "circular_llist.print_list()"
   ]
  },
  {
   "cell_type": "code",
   "execution_count": 94,
   "id": "494873cd-00f0-4d3a-9012-69a9e8781e1a",
   "metadata": {},
   "outputs": [
    {
     "name": "stdout",
     "output_type": "stream",
     "text": [
      "b -> c -> d -> a\n"
     ]
    }
   ],
   "source": [
    "circular_llist.print_list(b)"
   ]
  },
  {
   "cell_type": "code",
   "execution_count": 95,
   "id": "22fb1b77-03f0-4040-943d-2c01f7ec3f41",
   "metadata": {},
   "outputs": [
    {
     "name": "stdout",
     "output_type": "stream",
     "text": [
      "d -> a -> b -> c\n"
     ]
    }
   ],
   "source": [
    "circular_llist.print_list(d)"
   ]
  },
  {
   "cell_type": "code",
   "execution_count": null,
   "id": "924a60a2-d17c-4671-abb3-e2e91c4931b3",
   "metadata": {},
   "outputs": [],
   "source": []
  }
 ],
 "metadata": {
  "kernelspec": {
   "display_name": "Python(GENAI)",
   "language": "python",
   "name": "pythongenai"
  },
  "language_info": {
   "codemirror_mode": {
    "name": "ipython",
    "version": 3
   },
   "file_extension": ".py",
   "mimetype": "text/x-python",
   "name": "python",
   "nbconvert_exporter": "python",
   "pygments_lexer": "ipython3",
   "version": "3.9.21"
  }
 },
 "nbformat": 4,
 "nbformat_minor": 5
}
